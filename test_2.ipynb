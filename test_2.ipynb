{
 "cells": [
  {
   "cell_type": "code",
   "execution_count": null,
   "metadata": {},
   "outputs": [],
   "source": [
    "import os\n",
    "import pandas as pd\n",
    "import numpy as np\n",
    "import matplotlib.pyplot as plt\n",
    "\n",
    "def process_heart_rate_data(folder_path):\n",
    "    \"\"\"\n",
    "    Process heart rate data from the given folder path and plot the data.\n",
    "\n",
    "    Parameters:\n",
    "    - folder_path: Path to the folder containing heart rate data files.\n",
    "\n",
    "    Returns:\n",
    "    - DataFrame containing heart rate data.\n",
    "    \"\"\"\n",
    "    # Get column names and process heart rate data\n",
    "    column_names = []\n",
    "    dfs = []\n",
    "\n",
    "    # Extract column names and process heart rate data\n",
    "    for filename in os.listdir(folder_path):\n",
    "        file_path = os.path.join(folder_path, filename)\n",
    "        if filename.endswith('.CSV'):  # Check if file is a CSV file\n",
    "            date = filename.split('_')[2]  # Extract date from file name\n",
    "            column_names.append(pd.to_datetime(date, format='%Y%m%d'))  # Convert date to datetime object\n",
    "            heart_rate_data = pd.read_csv(file_path)\n",
    "            heart_rate_data = heart_rate_data['Date']\n",
    "            heart_rate_data = heart_rate_data[2:]\n",
    "            heart_rate_data.index.name = 'Time (seconds)'\n",
    "            heart_rate_data.index = heart_rate_data.index * 2\n",
    "            dfs.append(heart_rate_data)\n",
    "\n",
    "    # Concatenate all processed data frames into a single table\n",
    "    heart_rate_table = pd.concat(dfs, axis=1)\n",
    "\n",
    "    # Reorder columns based on datetime\n",
    "    sorted_columns = [col for _, col in sorted(zip(column_names, heart_rate_table.columns))]\n",
    "    heart_rate_table = heart_rate_table[sorted_columns]\n",
    "\n",
    "    # Update column names with sorted dates\n",
    "    heart_rate_table.columns = [f\"Heart Rate (bpm) {date.strftime('%Y-%m-%d')}\" for date in sorted(column_names)]\n",
    "\n",
    "    # Convert data to float and replace 0 with NaN\n",
    "    for column in heart_rate_table.columns:\n",
    "        heart_rate_table[column] = heart_rate_table[column].astype(float)\n",
    "        heart_rate_table[column] = heart_rate_table[column].replace(0, np.nan)\n",
    "\n",
    "    return heart_rate_table\n"
   ]
  }
 ],
 "metadata": {
  "language_info": {
   "name": "python"
  },
  "orig_nbformat": 4
 },
 "nbformat": 4,
 "nbformat_minor": 2
}
